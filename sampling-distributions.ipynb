{
 "cells": [
  {
   "cell_type": "code",
   "execution_count": 5,
   "metadata": {},
   "outputs": [
    {
     "name": "stdout",
     "output_type": "stream",
     "text": [
      "(10000, 8)\n"
     ]
    }
   ],
   "source": [
    "import numpy as np\n",
    "import scipy.stats as stats\n",
    "import pandas as pd\n",
    "import matplotlib.pyplot as plt\n",
    "\n",
    "def bootstrap(x, resamples=10000):\n",
    "    bootstrap_samples = []\n",
    "    for i in range(resamples):\n",
    "        bootstrap_sample = np.random.choice(x, size=len(x), replace=True)\n",
    "        bootstrap_samples.append(np.array(bootstrap_sample))\n",
    "    return np.array(bootstrap_samples)\n",
    "x = np.array([1,5,8,10,15,20,4,7])\n",
    "print(bootstrap(x).shape)\n"
   ]
  },
  {
   "cell_type": "code",
   "execution_count": 6,
   "metadata": {},
   "outputs": [
    {
     "name": "stdout",
     "output_type": "stream",
     "text": [
      "<class 'pandas.core.frame.DataFrame'>\n",
      "RangeIndex: 24 entries, 0 to 23\n",
      "Data columns (total 1 columns):\n",
      " #   Column                     Non-Null Count  Dtype  \n",
      "---  ------                     --------------  -----  \n",
      " 0   -1.910000000000000142e+01  24 non-null     float64\n",
      "dtypes: float64(1)\n",
      "memory usage: 320.0 bytes\n",
      "None\n"
     ]
    }
   ],
   "source": [
    "df = pd.read_csv('data/productivity.txt')\n",
    "print(df.info())"
   ]
  },
  {
   "cell_type": "markdown",
   "metadata": {},
   "source": [
    "Only reporting the mean difference is inappropriate because it may not be a true representation of the population <br />\n",
    "If there are some extreme outliers, then maybe the median or mode might be more representative.  The certainty of the mean needs <br />\n",
    "to be measured as a confidence interval. "
   ]
  },
  {
   "cell_type": "code",
   "execution_count": 18,
   "metadata": {},
   "outputs": [
    {
     "name": "stdout",
     "output_type": "stream",
     "text": [
      "(10000,) -0.2321 10.312099999999997\n"
     ]
    }
   ],
   "source": [
    "txt = np.loadtxt('data/productivity.txt')\n",
    "\n",
    "\n",
    "def bootstrap_ci(sample, stat_function=np.mean, resamples=10000, ci=95):\n",
    "    bootstrap_samples = bootstrap(sample, resamples)\n",
    "    sample = list(map(stat_function, bootstrap_samples))\n",
    "    sample = np.array(sample)\n",
    "    left_endpoint = np.percentile(sample, (100-ci)/2)\n",
    "    right_endpoint = np.percentile(sample, ci+(100-ci)/2)\n",
    "    return left_endpoint, right_endpoint, sample\n",
    "\n",
    "left, right, sample = bootstrap_ci(txt)\n",
    "print(sample.shape, left, right)"
   ]
  },
  {
   "cell_type": "code",
   "execution_count": 19,
   "metadata": {},
   "outputs": [
    {
     "data": {
      "image/png": "[encoded data removed]",
      "text/plain": [
       "<Figure size 360x360 with 1 Axes>"
      ]
     },
     "metadata": {
      "needs_background": "light"
     },
     "output_type": "display_data"
    }
   ],
   "source": [
    "fig, ax = plt.subplots(1,1, figsize=(5,5))\n",
    "ax.hist(sample, color='purple')\n",
    "plt.show()"
   ]
  },
  {
   "cell_type": "markdown",
   "metadata": {},
   "source": [
    "Based on the 95% confidence interval, there is a potential for a drop in production since the lower bound includes zero and therefore productivity may not increase by <br /> obaining new monitors\n",
    "\n"
   ]
  },
  {
   "cell_type": "code",
   "execution_count": 21,
   "metadata": {},
   "outputs": [
    {
     "name": "stdout",
     "output_type": "stream",
     "text": [
      "(10000,) 0.6199999999999994 9.52\n"
     ]
    }
   ],
   "source": [
    "left, right, sample = bootstrap_ci(txt, ci=90)\n",
    "print(sample.shape, left, right)"
   ]
  },
  {
   "cell_type": "markdown",
   "metadata": {},
   "source": [
    "Based on a 90% confidence interval, the lower bound is 0.67 and therefore their should be an increase in productivity.<br />\n",
    "\n",
    "If the screens cost $500 and each unit of productivity equates to a $2000 increase then the overall increase in net profit would be <br />\n",
    "$2000*(100)*0.67 - $500*100 = $84000"
   ]
  },
  {
   "cell_type": "code",
   "execution_count": 22,
   "metadata": {},
   "outputs": [
    {
     "name": "stdout",
     "output_type": "stream",
     "text": [
      "(0.776374491289407, 0.0006651020111028156)\n",
      "-0.5147643227225959 0.5096001577322362\n"
     ]
    }
   ],
   "source": [
    "lsat_data_raw = np.loadtxt('data/law_sample.txt')\n",
    "lsat = lsat_data_raw[:, 0]\n",
    "gpa = lsat_data_raw[:, 1]\n",
    "corr = stats.pearsonr(lsat, gpa)\n",
    "print(corr)\n",
    "def bootstrap_ci(x1,x2, stat_function=stats.pearsonr, resamples=10000, ci=95):\n",
    "    x1_samples = bootstrap(x1, resamples)\n",
    "    x2_samples = bootstrap(x2, resamples)\n",
    "    sample = []\n",
    "    for i in range(len(x1_samples)):\n",
    "        sample.append(stat_function(x1_samples[i], x2_samples[i]))\n",
    "    sample = np.array(sample)\n",
    "    left_endpoint = np.percentile(sample[:, 0], (100-ci)/2)\n",
    "    right_endpoint = np.percentile(sample[:, 0], ci+(100-ci)/2)\n",
    "    return left_endpoint, right_endpoint, sample\n",
    "\n",
    "left, right, sample = bootstrap_ci(lsat, gpa)\n",
    "print(left, right)"
   ]
  },
  {
   "cell_type": "code",
   "execution_count": null,
   "metadata": {},
   "outputs": [],
   "source": []
  },
  {
   "cell_type": "code",
   "execution_count": 23,
   "metadata": {},
   "outputs": [
    {
     "data": {
      "image/png": "[encoded data removed]",
      "text/plain": [
       "<Figure size 360x360 with 1 Axes>"
      ]
     },
     "metadata": {
      "needs_background": "light"
     },
     "output_type": "display_data"
    }
   ],
   "source": [
    "fig, ax = plt.subplots(1,1, figsize=(5,5))\n",
    "ax.hist(sample[:,0])\n",
    "plt.show()\n"
   ]
  },
  {
   "cell_type": "code",
   "execution_count": null,
   "metadata": {},
   "outputs": [],
   "source": []
  }
 ],
 "metadata": {
  "kernelspec": {
   "display_name": "Python 3",
   "language": "python",
   "name": "python3"
  },
  "language_info": {
   "codemirror_mode": {
    "name": "ipython",
    "version": 3
   },
   "file_extension": ".py",
   "mimetype": "text/x-python",
   "name": "python",
   "nbconvert_exporter": "python",
   "pygments_lexer": "ipython3",
   "version": "3.7.6"
  }
 },
 "nbformat": 4,
 "nbformat_minor": 4
}
